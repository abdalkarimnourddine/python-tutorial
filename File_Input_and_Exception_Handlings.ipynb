{
  "nbformat": 4,
  "nbformat_minor": 0,
  "metadata": {
    "colab": {
      "name": "File Input and Exception Handlings.ipynb",
      "provenance": [],
      "authorship_tag": "ABX9TyPQcazey6Lkakz9SNu85O5y",
      "include_colab_link": true
    },
    "kernelspec": {
      "name": "python3",
      "display_name": "Python 3"
    }
  },
  "cells": [
    {
      "cell_type": "markdown",
      "metadata": {
        "id": "view-in-github",
        "colab_type": "text"
      },
      "source": [
        "<a href=\"https://colab.research.google.com/github/abdalkarimnourddine/python-tutorial/blob/master/File_Input_and_Exception_Handlings.ipynb\" target=\"_parent\"><img src=\"https://colab.research.google.com/assets/colab-badge.svg\" alt=\"Open In Colab\"/></a>"
      ]
    },
    {
      "cell_type": "code",
      "metadata": {
        "id": "1P1x_2IbvyNY",
        "colab_type": "code",
        "colab": {
          "base_uri": "https://localhost:8080/",
          "height": 54
        },
        "outputId": "75511d23-29fb-4116-e99b-14fef1011b7a"
      },
      "source": [
        "# Read input from console, input will read numeric values and throw error if a string value entered\n",
        "num = input(\"Enter a number: \")\n",
        "print (type(num))"
      ],
      "execution_count": 3,
      "outputs": [
        {
          "output_type": "stream",
          "text": [
            "Enter a number: a\n",
            "<class 'str'>\n"
          ],
          "name": "stdout"
        }
      ]
    },
    {
      "cell_type": "code",
      "metadata": {
        "id": "kNrja73Kw8zQ",
        "colab_type": "code",
        "colab": {
          "base_uri": "https://localhost:8080/",
          "height": 35
        },
        "outputId": "fe2c7c4b-cea9-4ca8-ece6-54c0669a4256"
      },
      "source": [
        "# Set working directory\n",
        "import os\n",
        "\n",
        "# Print the working directory\n",
        "print (\"Current working directory is:\", os.getcwd())\n",
        "\n",
        "\n",
        "# Below code will create a file named vechicles and add the items. \\n is a newline character\n",
        "vechicles = ['scooter\\n', 'bike\\n', 'car\\n']\n",
        "f = open('vechicles.txt', 'w')\n",
        "f.writelines(vechicles)\n",
        "f.close()"
      ],
      "execution_count": 16,
      "outputs": [
        {
          "output_type": "stream",
          "text": [
            "Current working directory is: /content\n"
          ],
          "name": "stdout"
        }
      ]
    },
    {
      "cell_type": "code",
      "metadata": {
        "id": "s1OQ_gRPxLRc",
        "colab_type": "code",
        "colab": {
          "base_uri": "https://localhost:8080/",
          "height": 35
        },
        "outputId": "0c38a94c-29b1-4f8f-a8d6-56fb604d2198"
      },
      "source": [
        "f = open('vechicles.txt')\n",
        "print (f.readlines())\n",
        "f.close()"
      ],
      "execution_count": 17,
      "outputs": [
        {
          "output_type": "stream",
          "text": [
            "['scooter\\n', 'bike\\n', 'car\\n']\n"
          ],
          "name": "stdout"
        }
      ]
    },
    {
      "cell_type": "code",
      "metadata": {
        "id": "FvrYAC4Iyvh1",
        "colab_type": "code",
        "colab": {
          "base_uri": "https://localhost:8080/",
          "height": 35
        },
        "outputId": "a04de395-e4f7-418e-a562-c41c419b273a"
      },
      "source": [
        "import sys\n",
        "\n",
        "try:\n",
        "    a = 1\n",
        "    b = 1\n",
        "    print (\"Result of a/b: \", a / b)\n",
        "except (ZeroDivisionError):\n",
        "    print (\"Can't divide by zero\")\n",
        "except (TypeError):\n",
        "    print (\"Wrong data type, division is allowed on numeric data type only\")\n",
        "except:\n",
        "    print (\"Unexpected error occurred\", '\\n', \"Error Type: \", sys.exc_info()[0], '\\n', \"Error Msg: \", sys.exc_info()[1])"
      ],
      "execution_count": 20,
      "outputs": [
        {
          "output_type": "stream",
          "text": [
            "Result of a/b:  1.0\n"
          ],
          "name": "stdout"
        }
      ]
    },
    {
      "cell_type": "code",
      "metadata": {
        "id": "M_Er0wZxy6nl",
        "colab_type": "code",
        "colab": {
          "base_uri": "https://localhost:8080/",
          "height": 35
        },
        "outputId": "f56b3594-721b-4dae-8d86-21a23f1f6c4a"
      },
      "source": [
        "try:\n",
        "    a = 1\n",
        "    b = 0\n",
        "    print (a / b)\n",
        "except (ZeroDivisionError):\n",
        "    print (\"Can't divide by zero\")\n",
        "except (TypeError):\n",
        "    print (\"Wrong data type, division is allowed on numeric data type only\")\n",
        "except:\n",
        "    print (\"Unexpected error occurred\", '\\n', \"Error Type: \", sys.exc_info()[0], '\\n', \"Error Msg: \", sys.exc_info()[1])"
      ],
      "execution_count": 21,
      "outputs": [
        {
          "output_type": "stream",
          "text": [
            "Can't divide by zero\n"
          ],
          "name": "stdout"
        }
      ]
    },
    {
      "cell_type": "code",
      "metadata": {
        "id": "Rs1YM9TVzQnl",
        "colab_type": "code",
        "colab": {
          "base_uri": "https://localhost:8080/",
          "height": 54
        },
        "outputId": "0287634a-c605-46cd-b400-d859eb6ab15d"
      },
      "source": [
        "try:\n",
        "    f = open('C:\\\\Users\\Manoh\\\\Documents\\\\vechicles.txt')\n",
        "    s = f.readline()\n",
        "    print (s)\n",
        "    i = int(s.strip())\n",
        "except IOError as e:\n",
        "    print (\"I/O error({0}): {1}\".format(e.errno, e.strerror))\n",
        "except ValueError:\n",
        "    print (\"Could not convert data to an integer.\")\n",
        "except:\n",
        "    print (\"Unexpected error occurred\", '\\n', \"Error Type: \", sys.exc_info()[0], '\\n', \"Error Msg: \", sys.exc_info()[1])\n",
        "finally:\n",
        "    f.close()\n",
        "    print (\"file has been closed\")"
      ],
      "execution_count": 22,
      "outputs": [
        {
          "output_type": "stream",
          "text": [
            "I/O error(2): No such file or directory\n",
            "file has been closed\n"
          ],
          "name": "stdout"
        }
      ]
    }
  ]
}