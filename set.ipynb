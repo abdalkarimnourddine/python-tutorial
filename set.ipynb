{
  "nbformat": 4,
  "nbformat_minor": 0,
  "metadata": {
    "colab": {
      "name": "Copy of set.ipynb",
      "provenance": [],
      "collapsed_sections": [],
      "authorship_tag": "ABX9TyMuVJEJxwETPHTZlyWZ2uKq",
      "include_colab_link": true
    },
    "kernelspec": {
      "name": "python3",
      "display_name": "Python 3"
    }
  },
  "cells": [
    {
      "cell_type": "markdown",
      "metadata": {
        "id": "view-in-github",
        "colab_type": "text"
      },
      "source": [
        "<a href=\"https://colab.research.google.com/github/abdalkarimnourddine/python-tutorial/blob/master/set.ipynb\" target=\"_parent\"><img src=\"https://colab.research.google.com/assets/colab-badge.svg\" alt=\"Open In Colab\"/></a>"
      ]
    },
    {
      "cell_type": "code",
      "metadata": {
        "id": "N07LoQZVXMyn",
        "colab_type": "code",
        "outputId": "caa2536c-d11c-4d05-dca9-ad869665b769",
        "colab": {
          "base_uri": "https://localhost:8080/",
          "height": 72
        }
      },
      "source": [
        "languages = set()\n",
        "print (type(languages), languages)\n",
        "#create a def set\n",
        "languages = {'Python', 'R', 'SAS', 'Julia'}\n",
        "print (type(languages), languages)\n",
        "# set of mixed datatypes\n",
        "mixed_set = {\"Python\", (2.7, 3.4)}\n",
        "print (type(mixed_set), languages)\n",
        "\n"
      ],
      "execution_count": 0,
      "outputs": [
        {
          "output_type": "stream",
          "text": [
            "<class 'set'> set()\n",
            "<class 'set'> {'SAS', 'Python', 'R', 'Julia'}\n",
            "<class 'set'> {'SAS', 'Python', 'R', 'Julia'}\n"
          ],
          "name": "stdout"
        }
      ]
    },
    {
      "cell_type": "code",
      "metadata": {
        "id": "g-zhQ5aEzS_n",
        "colab_type": "code",
        "colab": {}
      },
      "source": [
        ""
      ],
      "execution_count": 0,
      "outputs": []
    },
    {
      "cell_type": "markdown",
      "metadata": {
        "id": "gBOJKAauZOnM",
        "colab_type": "text"
      },
      "source": [
        "Accessing set elements"
      ]
    },
    {
      "cell_type": "code",
      "metadata": {
        "id": "A_csQbhCZP9T",
        "colab_type": "code",
        "outputId": "d94effa7-673e-4148-b2cc-eb98c7221dd9",
        "colab": {
          "base_uri": "https://localhost:8080/",
          "height": 54
        }
      },
      "source": [
        "print (list(languages)[0])\n",
        "print (list(languages)[0:3])"
      ],
      "execution_count": 0,
      "outputs": [
        {
          "output_type": "stream",
          "text": [
            "SAS\n",
            "['SAS', 'Python', 'R']\n"
          ],
          "name": "stdout"
        }
      ]
    },
    {
      "cell_type": "code",
      "metadata": {
        "id": "CqjWqKFacUWp",
        "colab_type": "code",
        "outputId": "1fcfc974-b3b2-4617-dfd9-a4255db908e1",
        "colab": {
          "base_uri": "https://localhost:8080/",
          "height": 90
        }
      },
      "source": [
        "#Changing a set in Python\n",
        "# initialize a set\n",
        "languages = {'Python', 'R'}\n",
        "print(languages)\n",
        "#The add() method can be used to add single element and update() method for adding multiple elements.\n",
        "# add an element\n",
        "languages.add('SAS')\n",
        "print(languages)\n",
        "# add multiple elements\n",
        "languages.update(['Julia','SPSS'])\n",
        "print(languages)\n",
        "# add list and set\n",
        "languages.update(['Java','C'], {'Machine Learning','Data Science','AI'})\n",
        "print(languages)"
      ],
      "execution_count": 0,
      "outputs": [
        {
          "output_type": "stream",
          "text": [
            "{'Python', 'R'}\n",
            "{'SAS', 'Python', 'R'}\n",
            "{'SAS', 'SPSS', 'Python', 'R', 'Julia'}\n",
            "{'SAS', 'C', 'Machine Learning', 'Java', 'Data Science', 'SPSS', 'Python', 'R', 'AI', 'Julia'}\n"
          ],
          "name": "stdout"
        }
      ]
    },
    {
      "cell_type": "markdown",
      "metadata": {
        "id": "AYJPMjUBdxDp",
        "colab_type": "text"
      },
      "source": [
        "Removing items from set"
      ]
    },
    {
      "cell_type": "markdown",
      "metadata": {
        "id": "pIJFZqu_d_JK",
        "colab_type": "text"
      },
      "source": [
        "difference between discard() and remove() is that the first do not take any action if the item does not exist in the set, whereas remove() will raises an error in such scenario"
      ]
    },
    {
      "cell_type": "code",
      "metadata": {
        "id": "HH_4KZ-KeEaT",
        "colab_type": "code",
        "outputId": "a56d4c6e-a543-4b6d-d928-4429dcf9fc95",
        "colab": {
          "base_uri": "https://localhost:8080/",
          "height": 54
        }
      },
      "source": [
        "print(languages)\n",
        "# remove an element\n",
        "languages.remove('AI')\n",
        "print(languages)"
      ],
      "execution_count": 0,
      "outputs": [
        {
          "output_type": "stream",
          "text": [
            "{'SAS', 'C', 'Machine Learning', 'Java', 'Data Science', 'SPSS', 'Python', 'R', 'AI', 'Julia'}\n",
            "{'SAS', 'C', 'Machine Learning', 'Java', 'Data Science', 'SPSS', 'Python', 'R', 'Julia'}\n"
          ],
          "name": "stdout"
        }
      ]
    },
    {
      "cell_type": "code",
      "metadata": {
        "id": "FWgFJTaSeZ67",
        "colab_type": "code",
        "outputId": "a0d10f8e-52a6-4750-882f-f2d48c4c3c00",
        "colab": {
          "base_uri": "https://localhost:8080/",
          "height": 35
        }
      },
      "source": [
        "# discard an element, although AI has already been removed discard will not throw an error\n",
        "languages.discard('AI')\n",
        "print(languages)"
      ],
      "execution_count": 0,
      "outputs": [
        {
          "output_type": "stream",
          "text": [
            "{'SAS', 'C', 'Machine Learning', 'Java', 'Data Science', 'SPSS', 'Python', 'R', 'Julia'}\n"
          ],
          "name": "stdout"
        }
      ]
    },
    {
      "cell_type": "code",
      "metadata": {
        "id": "gozDt8rPeqRK",
        "colab_type": "code",
        "outputId": "3c8e345e-5d97-4dc3-c283-5078579c6418",
        "colab": {
          "base_uri": "https://localhost:8080/",
          "height": 35
        }
      },
      "source": [
        "# Pop will remove a random item from set\n",
        "print (\"Removed:\", (languages.pop()), \"from\", languages)"
      ],
      "execution_count": 0,
      "outputs": [
        {
          "output_type": "stream",
          "text": [
            "Removed: SAS from {'C', 'Machine Learning', 'Java', 'Data Science', 'SPSS', 'Python', 'R', 'Julia'}\n"
          ],
          "name": "stdout"
        }
      ]
    },
    {
      "cell_type": "markdown",
      "metadata": {
        "id": "KUHvZl20e5lb",
        "colab_type": "text"
      },
      "source": [
        "Set Union(like mowjoudi probability)"
      ]
    },
    {
      "cell_type": "code",
      "metadata": {
        "id": "3vO-6snde6KU",
        "colab_type": "code",
        "outputId": "3be67915-e93a-4b1a-9bd9-29b101e0f198",
        "colab": {
          "base_uri": "https://localhost:8080/",
          "height": 54
        }
      },
      "source": [
        "# initialize A and B\n",
        "A = {1, 2, 3, 4, 5}\n",
        "B = {4, 5, 6, 7, 8}\n",
        "#there are 2 method\n",
        "# use | operator\n",
        "print (\"Union of A | B\", A|B)\n",
        "# alternative we can use union()\n",
        "print (\"Union of A | B\", A.union(B))"
      ],
      "execution_count": 0,
      "outputs": [
        {
          "output_type": "stream",
          "text": [
            "Union of A | B {1, 2, 3, 4, 5, 6, 7, 8}\n",
            "Union of A | B {1, 2, 3, 4, 5, 6, 7, 8}\n"
          ],
          "name": "stdout"
        }
      ]
    },
    {
      "cell_type": "markdown",
      "metadata": {
        "id": "BbWSEaurfZyT",
        "colab_type": "text"
      },
      "source": [
        "Set Intersection"
      ]
    },
    {
      "cell_type": "code",
      "metadata": {
        "id": "T94rEUL6faxO",
        "colab_type": "code",
        "outputId": "e985ab5e-10e0-44e2-fe3d-50f29d5bb905",
        "colab": {
          "base_uri": "https://localhost:8080/",
          "height": 54
        }
      },
      "source": [
        "# use & operator\n",
        "print (\"Intersection of A & B\", A & B)\n",
        "\n",
        "# alternative we can use intersection()\n",
        "print (\"Intersection of A & B\", A.intersection(B))"
      ],
      "execution_count": 0,
      "outputs": [
        {
          "output_type": "stream",
          "text": [
            "Intersection of A & B {4, 5}\n",
            "Intersection of A & B {4, 5}\n"
          ],
          "name": "stdout"
        }
      ]
    },
    {
      "cell_type": "markdown",
      "metadata": {
        "id": "lid_dgdvfo1q",
        "colab_type": "text"
      },
      "source": [
        "Set Difference"
      ]
    },
    {
      "cell_type": "code",
      "metadata": {
        "id": "NLGHqRFxfpuy",
        "colab_type": "code",
        "outputId": "54b39571-e67c-41dd-e4cd-c947e376023a",
        "colab": {
          "base_uri": "https://localhost:8080/",
          "height": 54
        }
      },
      "source": [
        "#delete nfas elements\n",
        "# use - operator on A\n",
        "print (\"Difference of A - B\", A - B)\n",
        "\n",
        "# alternative we can use difference()\n",
        "print (\"Difference of A - B\", A.difference(B))"
      ],
      "execution_count": 0,
      "outputs": [
        {
          "output_type": "stream",
          "text": [
            "Difference of A - B {1, 2, 3}\n",
            "Difference of A - B {1, 2, 3}\n"
          ],
          "name": "stdout"
        }
      ]
    },
    {
      "cell_type": "markdown",
      "metadata": {
        "id": "z36lyXfUf7US",
        "colab_type": "text"
      },
      "source": [
        "Set Symmetric Difference"
      ]
    },
    {
      "cell_type": "code",
      "metadata": {
        "id": "tLRTvzEEzWbi",
        "colab_type": "code",
        "colab": {
          "base_uri": "https://localhost:8080/",
          "height": 90
        },
        "outputId": "18302884-1c19-4d8e-baf9-78bdc31407e5"
      },
      "source": [
        "print('A=',A,'B=',B)\n",
        "#Symmetric difference of two sets A and B is a set of items from both sets that are not common\n",
        "# use ^ operator\n",
        "print (\"Symmetric difference of A ^ B\", A ^ B)\n",
        "\n",
        "# alternative we can use symmetric_difference()\n",
        "print (\"Symmetric difference of A ^ B\", A.symmetric_difference(B))\n",
        "print('A=',A)\n"
      ],
      "execution_count": 16,
      "outputs": [
        {
          "output_type": "stream",
          "text": [
            "A= {1, 2, 3, 4, 5} B= {4, 5, 6, 7, 8}\n",
            "Symmetric difference of A ^ B {1, 2, 3, 6, 7, 8}\n",
            "Symmetric difference of A ^ B {1, 2, 3, 6, 7, 8}\n",
            "A= {1, 2, 3, 4, 5}\n"
          ],
          "name": "stdout"
        }
      ]
    },
    {
      "cell_type": "markdown",
      "metadata": {
        "id": "74eGJEC20O0n",
        "colab_type": "text"
      },
      "source": [
        ""
      ]
    },
    {
      "cell_type": "code",
      "metadata": {
        "id": "BuZ_BqKS0PDN",
        "colab_type": "code",
        "colab": {
          "base_uri": "https://localhost:8080/",
          "height": 181
        },
        "outputId": "1a758766-7c8d-4afb-f093-91a847a2c1b3"
      },
      "source": [
        "#make a copy \n",
        "lang = languages.copy()\n",
        "print (languages)\n",
        "print (lang)\n",
        "\n",
        "# initialize A and B\n",
        "A = {1, 2, 3, 4, 5}\n",
        "B = {4, 5, 6, 7, 8}\n",
        "\n",
        "print (A.isdisjoint(B))   # True, when two sets have a null intersection\n",
        "print (A.issubset(B))     # True, when another set contains this set\n",
        "print (A.issuperset(B))   # True, when this set contains another set\n",
        "sorted(B)                 # Return a new sorted list\n",
        "print (sum(A))            # Retrun the sum of all items\n",
        "print (len(A))            # Return the length \n",
        "print (min(A))            # Return the largest item\n",
        "print (max(A))            # Return the smallest item"
      ],
      "execution_count": 17,
      "outputs": [
        {
          "output_type": "stream",
          "text": [
            "{'C', 'Machine Learning', 'Java', 'Data Science', 'SPSS', 'Python', 'R', 'Julia'}\n",
            "{'C', 'Machine Learning', 'Java', 'Data Science', 'SPSS', 'Python', 'R', 'Julia'}\n",
            "False\n",
            "False\n",
            "False\n",
            "15\n",
            "5\n",
            "1\n",
            "5\n"
          ],
          "name": "stdout"
        }
      ]
    }
  ]
}