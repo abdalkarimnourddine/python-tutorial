{
  "nbformat": 4,
  "nbformat_minor": 0,
  "metadata": {
    "colab": {
      "name": "Untitled0.ipynb",
      "provenance": [],
      "collapsed_sections": [],
      "authorship_tag": "ABX9TyOcXYR30t0psTwgXAbtW26S",
      "include_colab_link": true
    },
    "kernelspec": {
      "name": "python3",
      "display_name": "Python 3"
    }
  },
  "cells": [
    {
      "cell_type": "markdown",
      "metadata": {
        "id": "view-in-github",
        "colab_type": "text"
      },
      "source": [
        "<a href=\"https://colab.research.google.com/github/abdalkarimnourddine/python-tutorial/blob/master/Untitled0.ipynb\" target=\"_parent\"><img src=\"https://colab.research.google.com/assets/colab-badge.svg\" alt=\"Open In Colab\"/></a>"
      ]
    },
    {
      "cell_type": "code",
      "metadata": {
        "id": "Zmuj_x6BtT9D",
        "colab_type": "code",
        "outputId": "b05caec8-3918-4695-b48a-0066076bd8a1",
        "colab": {
          "base_uri": "https://localhost:8080/",
          "height": 34
        }
      },
      "source": [
        "print('hello')"
      ],
      "execution_count": 0,
      "outputs": [
        {
          "output_type": "stream",
          "text": [
            "hello\n"
          ],
          "name": "stdout"
        }
      ]
    },
    {
      "cell_type": "code",
      "metadata": {
        "id": "cVAOTOGewU-o",
        "colab_type": "code",
        "outputId": "ad1c97de-2e63-43f8-9c72-ec65a78ccce0",
        "colab": {
          "base_uri": "https://localhost:8080/",
          "height": 34
        }
      },
      "source": [
        "print(\"Hello, Python World!\")"
      ],
      "execution_count": 0,
      "outputs": [
        {
          "output_type": "stream",
          "text": [
            "Hello, Python World!\n"
          ],
          "name": "stdout"
        }
      ]
    },
    {
      "cell_type": "code",
      "metadata": {
        "id": "zVetnHhgwbEd",
        "colab_type": "code",
        "outputId": "0147f03b-fd39-4b46-adcc-af9f673c2c1a",
        "colab": {
          "base_uri": "https://localhost:8080/",
          "height": 129
        }
      },
      "source": [
        "1variable = 'Identifier can not start with number'\n"
      ],
      "execution_count": 0,
      "outputs": [
        {
          "output_type": "error",
          "ename": "SyntaxError",
          "evalue": "ignored",
          "traceback": [
            "\u001b[0;36m  File \u001b[0;32m\"<ipython-input-3-b63cba1f1bc2>\"\u001b[0;36m, line \u001b[0;32m1\u001b[0m\n\u001b[0;31m    1variable = 'Identifier can not start with number'\u001b[0m\n\u001b[0m            ^\u001b[0m\n\u001b[0;31mSyntaxError\u001b[0m\u001b[0;31m:\u001b[0m invalid syntax\n"
          ]
        }
      ]
    },
    {
      "cell_type": "markdown",
      "metadata": {
        "id": "be6x_Xz-y0Hs",
        "colab_type": "text"
      },
      "source": [
        "Basic Objec Types"
      ]
    },
    {
      "cell_type": "code",
      "metadata": {
        "id": "OvBwP_zjzCdj",
        "colab_type": "code",
        "outputId": "b98d7b5c-e134-4152-dd45-aa00e2d1f616",
        "colab": {
          "base_uri": "https://localhost:8080/",
          "height": 272
        }
      },
      "source": [
        "none = None # singleton null object\n",
        "boolean = bool(True)\n",
        "integer = 1\n",
        "Long = 3.14\n",
        "\n",
        "# float\n",
        "Float = 3.14\n",
        "Float_inf = float('inf')\n",
        "Float_nan = float('nan')\n",
        "\n",
        "# complex object type, note the usage of letter j\n",
        "Complex = 2+8j \n",
        "\n",
        "# string can be enclosed in single or double quote\n",
        "string = 'this is a string'\n",
        "me_also_string = \"also me\"\n",
        "\n",
        "List = [1, True, 'ML'] # Values can be changed\n",
        "\n",
        "Tuple = (1, True, 'ML') # Values can not be changed\n",
        "\n",
        "Set = set([1,2,2,2,3,4,5,5]) # Duplicates will not be stored\n",
        "\n",
        "# Use a dictionary when you have a set of unique keys that map to values\n",
        "Dictionary = {'a':'A', 2:'AA', True:1, False:0}\n",
        "\n",
        "# lets print the object type and the value\n",
        "print(type(none), none)\n",
        "print(type(boolean), boolean)\n",
        "print(type(integer), integer)\n",
        "print(type(Long), Long)\n",
        "print(type(Float), Float)\n",
        "print(type(Float_inf), Float_inf)\n",
        "print(type(Float_nan), Float_nan)\n",
        "print(type(Complex), Complex)\n",
        "print(type(string), string)\n",
        "print(type(me_also_string), me_also_string)\n",
        "print(type(Tuple), Tuple)\n",
        "print(type(List), List)\n",
        "print(type(Set), Set)\n",
        "print(type(Dictionary), Dictionary)"
      ],
      "execution_count": 0,
      "outputs": [
        {
          "output_type": "stream",
          "text": [
            "<class 'NoneType'> None\n",
            "<class 'bool'> True\n",
            "<class 'int'> 1\n",
            "<class 'float'> 3.14\n",
            "<class 'float'> 3.14\n",
            "<class 'float'> inf\n",
            "<class 'float'> nan\n",
            "<class 'complex'> (2+8j)\n",
            "<class 'str'> this is a string\n",
            "<class 'str'> also me\n",
            "<class 'tuple'> (1, True, 'ML')\n",
            "<class 'list'> [1, True, 'ML']\n",
            "<class 'set'> {1, 2, 3, 4, 5}\n",
            "<class 'dict'> {'a': 'A', 2: 'AA', True: 1, False: 0}\n",
            "ERROR! Session/line number was not unique in database. History logging moved to new session 59\n"
          ],
          "name": "stdout"
        }
      ]
    },
    {
      "cell_type": "markdown",
      "metadata": {
        "id": "t_w0RUQizv_8",
        "colab_type": "text"
      },
      "source": [
        "comments "
      ]
    },
    {
      "cell_type": "code",
      "metadata": {
        "id": "MRsIfo9Jz86t",
        "colab_type": "code",
        "outputId": "66ad2f24-dfbd-4c76-884b-66e6c5723257",
        "colab": {
          "base_uri": "https://localhost:8080/",
          "height": 51
        }
      },
      "source": [
        "# hi doctor\n",
        "print(\"Hello Python World\") # hello doctor\n",
        "\n",
        "\"\"\" This is an example of a multi line\n",
        "goodbye doctor\n",
        "\"\"\" "
      ],
      "execution_count": 0,
      "outputs": [
        {
          "output_type": "stream",
          "text": [
            "Hello Python World\n"
          ],
          "name": "stdout"
        },
        {
          "output_type": "execute_result",
          "data": {
            "text/plain": [
              "' This is an example of a multi line\\ngoodbye doctor\\n'"
            ]
          },
          "metadata": {
            "tags": []
          },
          "execution_count": 5
        }
      ]
    },
    {
      "cell_type": "markdown",
      "metadata": {
        "id": "fiyAS_ON04gq",
        "colab_type": "text"
      },
      "source": [
        ""
      ]
    },
    {
      "cell_type": "markdown",
      "metadata": {
        "id": "XOVgs82M02ga",
        "colab_type": "text"
      },
      "source": [
        "codeblocks"
      ]
    },
    {
      "cell_type": "code",
      "metadata": {
        "id": "KQ-CH29U1hcy",
        "colab_type": "code",
        "outputId": "8e3ff4d3-1f58-42f8-8593-15f55d9c02de",
        "colab": {
          "base_uri": "https://localhost:8080/",
          "height": 68
        }
      },
      "source": [
        "print (\"Programming is an important skill for Data Science\")\n",
        "print (\"Statistics is an imporant skill for Data Science\")\n",
        "# opposite\n",
        "x = 1\n",
        "if x == 1:\n",
        "    print ('x has a value of 1')\n",
        "else:\n",
        "    print ('x does NOT have a value of 1')\n",
        "    # هنا يناقش ان كل سطر يمكن ان يطبع كما هو مكتوب وهنا استثناء"
      ],
      "execution_count": 0,
      "outputs": [
        {
          "output_type": "stream",
          "text": [
            "Programming is an important skill for Data Science\n",
            "Statistics is an imporant skill for Data Science\n",
            "x has a value of 1\n"
          ],
          "name": "stdout"
        }
      ]
    },
    {
      "cell_type": "code",
      "metadata": {
        "id": "g4xU9_D218-K",
        "colab_type": "code",
        "outputId": "8b3a1348-caf3-48b7-bf80-d25bca2ffd8e",
        "colab": {
          "base_uri": "https://localhost:8080/",
          "height": 34
        }
      },
      "source": [
        "# incorrect indentation, program will generate a syntax error\n",
        "# due to the wrong indentation in the else statement\n",
        "x = 1\n",
        "if x == 1:\n",
        "    print ('x has a value of 1')\n",
        "else:\n",
        " print ('x does NOT have a value of 1')"
      ],
      "execution_count": 0,
      "outputs": [
        {
          "output_type": "stream",
          "text": [
            "x has a value of 1\n"
          ],
          "name": "stdout"
        }
      ]
    },
    {
      "cell_type": "markdown",
      "metadata": {
        "id": "wIDvbKT_2Zsq",
        "colab_type": "text"
      },
      "source": [
        "multi line"
      ]
    },
    {
      "cell_type": "code",
      "metadata": {
        "id": "bSdDI7IB2d-k",
        "colab_type": "code",
        "outputId": "e1f6b5d1-b0e2-4997-9077-197dea5fea0e",
        "colab": {
          "base_uri": "https://localhost:8080/",
          "height": 85
        }
      },
      "source": [
        "# Example of implicit line continuation\n",
        "x = ('1' + '2' + \n",
        "    '3' + '4')\n",
        "\n",
        "# Example of explicit line continuation\n",
        "y = '1' + '2' + \\\n",
        "    '11' + '12'\n",
        "    \n",
        "weekdays = ['Monday', 'Tuesday', 'Wednesday', \n",
        "            'Thursday', 'Friday']\n",
        "\n",
        "weekend = {'Saturday',\n",
        "           'Sunday'}\n",
        "\n",
        "print ('x has a value of', x)\n",
        "print ('y has a value of', y)\n",
        "print (weekdays)\n",
        "print (weekend)"
      ],
      "execution_count": 0,
      "outputs": [
        {
          "output_type": "stream",
          "text": [
            "x has a value of 1234\n",
            "y has a value of 121112\n",
            "['Monday', 'Tuesday', 'Wednesday', 'Thursday', 'Friday']\n",
            "{'Saturday', 'Sunday'}\n"
          ],
          "name": "stdout"
        }
      ]
    },
    {
      "cell_type": "markdown",
      "metadata": {
        "id": "gs077x5s2p4q",
        "colab_type": "text"
      },
      "source": [
        "Basic Operators"
      ]
    },
    {
      "cell_type": "code",
      "metadata": {
        "id": "RWb1yafQ2-cE",
        "colab_type": "code",
        "outputId": "d6c61087-0cfe-4ee7-d0e4-a2e95bddcf36",
        "colab": {
          "base_uri": "https://localhost:8080/",
          "height": 136
        }
      },
      "source": [
        "# Variable x holds 10 and variable y holds 5\n",
        "x = 10\n",
        "y = 5\n",
        "\n",
        "# Addition\n",
        "print (\"Addition, x(10) + y(5) = \", x + y)\n",
        "\n",
        "# Subtraction\n",
        "print (\"Subtraction, x(10) - y(5) = \", x - y)\n",
        "\n",
        "# Multiplication\n",
        "print (\"Multiplication, x(10) * y(5) = \", x * y) \n",
        "\n",
        "# Division\n",
        "print (\"Division, x(10) / y(5) = \", x / y)\n",
        "\n",
        "# Modulus\n",
        "print (\"Modulus, x(10) % y(5) = \", x % y)\n",
        "\n",
        "# Exponent\n",
        "print (\"Exponent, x(10)**y(5) = \", x**y)\n",
        "\n",
        "# Integer division rounded towards minus infinity\n",
        "print (\"Floor Division, x(10)//y(5) = \", x//y)"
      ],
      "execution_count": 0,
      "outputs": [
        {
          "output_type": "stream",
          "text": [
            "Addition, x(10) + y(5) =  15\n",
            "Subtraction, x(10) - y(5) =  5\n",
            "Multiplication, x(10) * y(5) =  50\n",
            "Division, x(10) / y(5) =  2.0\n",
            "Modulus, x(10) % y(5) =  0\n",
            "Exponent, x(10)**y(5) =  100000\n",
            "Floor Division, x(10)//y(5) =  2\n"
          ],
          "name": "stdout"
        }
      ]
    },
    {
      "cell_type": "markdown",
      "metadata": {
        "id": "let2HnqN3bSH",
        "colab_type": "text"
      },
      "source": [
        "comp"
      ]
    },
    {
      "cell_type": "code",
      "metadata": {
        "id": "C6sQM5uG3dTF",
        "colab_type": "code",
        "outputId": "5af0121c-2f0c-4449-99d1-ae42889bbcd8",
        "colab": {
          "base_uri": "https://localhost:8080/",
          "height": 119
        }
      },
      "source": [
        "\n",
        "print (\"Equal check, x(10) == y(5) \", x == y)\n",
        "\n",
        "print (\"Not Equal check, x(10) != y(5) \", x != y)\n",
        "\n",
        "print (\"Less than check, x(10) < y(5) \", x < y)\n",
        "\n",
        "print (\"Greater than check, x(10) > y(5) \", x > y)\n",
        "\n",
        "print (\"Less than or equal to check, x(10) <= y(5) \", x <= y)\n",
        "\n",
        "print (\"Greater than or equal to check, x(10) >= y(5) \", x >= y)"
      ],
      "execution_count": 0,
      "outputs": [
        {
          "output_type": "stream",
          "text": [
            "Equal check, x(10) == y(5)  False\n",
            "Not Equal check, x(10) != y(5)  True\n",
            "Less than check, x(10) < y(5)  False\n",
            "Greater than check, x(10) > y(5)  True\n",
            "Less than or equal to check, x(10) <= y(5)  False\n",
            "Greater than or equal to check, x(10) >= y(5)  True\n"
          ],
          "name": "stdout"
        }
      ]
    },
    {
      "cell_type": "markdown",
      "metadata": {
        "id": "bDTk72_g6tvl",
        "colab_type": "text"
      },
      "source": [
        "logic"
      ]
    },
    {
      "cell_type": "code",
      "metadata": {
        "id": "kssvq7RS6vka",
        "colab_type": "code",
        "outputId": "faceb24b-25f0-4e84-91b3-50733906d644",
        "colab": {
          "base_uri": "https://localhost:8080/",
          "height": 119
        }
      },
      "source": [
        "x = 10\n",
        "y = 4\n",
        "print (x >> y)  # Right Shift\n",
        "print (x << y)  # Left Shift\n",
        "print (x & y)   # Bitwise AND\n",
        "print (x | y)   # Bitwise OR\n",
        "print (x ^ y) # Bitwise XOR\n",
        "print (~x)    # Bitwise NOT"
      ],
      "execution_count": 0,
      "outputs": [
        {
          "output_type": "stream",
          "text": [
            "0\n",
            "160\n",
            "0\n",
            "14\n",
            "14\n",
            "-11\n"
          ],
          "name": "stdout"
        }
      ]
    },
    {
      "cell_type": "code",
      "metadata": {
        "id": "Z6J9cKJN67Tg",
        "colab_type": "code",
        "outputId": "e7a29572-704f-4d90-f436-a78d99a0cc10",
        "colab": {
          "base_uri": "https://localhost:8080/",
          "height": 68
        }
      },
      "source": [
        "var1 = True\n",
        "var2 = False\n",
        "print('var1 and var2 is',var1 and var2)\n",
        "print('var1 or var2 is',var1 or var2)\n",
        "print('not var1 is',not var1)"
      ],
      "execution_count": 0,
      "outputs": [
        {
          "output_type": "stream",
          "text": [
            "var1 and var2 is False\n",
            "var1 or var2 is True\n",
            "not var1 is False\n"
          ],
          "name": "stdout"
        }
      ]
    },
    {
      "cell_type": "markdown",
      "metadata": {
        "id": "NdpCa4seAWuo",
        "colab_type": "text"
      },
      "source": [
        "in &not in"
      ]
    },
    {
      "cell_type": "code",
      "metadata": {
        "id": "uM_EHGNGAe4R",
        "colab_type": "code",
        "outputId": "ead55133-1351-421c-c82d-bd1e819c7174",
        "colab": {
          "base_uri": "https://localhost:8080/",
          "height": 85
        }
      },
      "source": [
        "var1 = 'Hello world'          # string\n",
        "var2 = {1:'a',2:'b'}          # dictionary\n",
        "print('H' in var1)\n",
        "print('hello' not in var1)\n",
        "print(1 in var2)\n",
        "print('a' in var2)"
      ],
      "execution_count": 0,
      "outputs": [
        {
          "output_type": "stream",
          "text": [
            "True\n",
            "True\n",
            "True\n",
            "False\n"
          ],
          "name": "stdout"
        }
      ]
    },
    {
      "cell_type": "markdown",
      "metadata": {
        "id": "KcX8HpIEA4ME",
        "colab_type": "text"
      },
      "source": [
        "is & is not"
      ]
    },
    {
      "cell_type": "code",
      "metadata": {
        "id": "A5FDbsm7A7E3",
        "colab_type": "code",
        "outputId": "44e02d64-4ab7-4787-933c-c5232b08489f",
        "colab": {
          "base_uri": "https://localhost:8080/",
          "height": 68
        }
      },
      "source": [
        "var1 = 5\n",
        "var2 = 'Hello'\n",
        "var2 = 'Hello'\n",
        "var3 = [1,2,3]\n",
        "var3 = [1,2,3]\n",
        "print(var1 is not var1)\n",
        "print(var2 is var2)\n",
        "print(var3 is var3)"
      ],
      "execution_count": 0,
      "outputs": [
        {
          "output_type": "stream",
          "text": [
            "False\n",
            "True\n",
            "True\n"
          ],
          "name": "stdout"
        }
      ]
    },
    {
      "cell_type": "markdown",
      "metadata": {
        "id": "3Y_y3EkpBfOW",
        "colab_type": "text"
      },
      "source": [
        "if collection"
      ]
    },
    {
      "cell_type": "code",
      "metadata": {
        "id": "5QO_vM1VBkzW",
        "colab_type": "code",
        "outputId": "aa54147b-1c96-4039-ccd5-c391a9555df9",
        "colab": {
          "base_uri": "https://localhost:8080/",
          "height": 68
        }
      },
      "source": [
        "var = -1\n",
        "if var < 0:\n",
        "    print (var)\n",
        "    print (\"the value of var is negative\")\n",
        "if ( var  == -1 ) : print (\"the value of var is negative\")   "
      ],
      "execution_count": 0,
      "outputs": [
        {
          "output_type": "stream",
          "text": [
            "-1\n",
            "the value of var is negative\n",
            "the value of var is negative\n"
          ],
          "name": "stdout"
        }
      ]
    },
    {
      "cell_type": "markdown",
      "metadata": {
        "id": "v5a8qWwSCnHH",
        "colab_type": "text"
      },
      "source": [
        "if elif like switch"
      ]
    },
    {
      "cell_type": "code",
      "metadata": {
        "id": "qo4C_gzQCsPX",
        "colab_type": "code",
        "outputId": "76bafb5f-58ae-4230-ec06-f238518e3254",
        "colab": {
          "base_uri": "https://localhost:8080/",
          "height": 34
        }
      },
      "source": [
        "score = 95\n",
        "\n",
        "if score >= 99:\n",
        "    print('A')\n",
        "elif score >=75:\n",
        "    print('B')\n",
        "elif score >= 60:\n",
        "    print('C')\n",
        "elif score >= 35:\n",
        "    print('D')\n",
        "else:\n",
        "    print('F')"
      ],
      "execution_count": 0,
      "outputs": [
        {
          "output_type": "stream",
          "text": [
            "B\n"
          ],
          "name": "stdout"
        }
      ]
    },
    {
      "cell_type": "markdown",
      "metadata": {
        "id": "my-aksVTDIrR",
        "colab_type": "text"
      },
      "source": [
        "fct like for"
      ]
    },
    {
      "cell_type": "code",
      "metadata": {
        "id": "nrPytHJfDMEv",
        "colab_type": "code",
        "outputId": "794b90ba-fe7a-495c-dfaf-cb398ce734a9",
        "colab": {
          "base_uri": "https://localhost:8080/",
          "height": 374
        }
      },
      "source": [
        "# First Example\n",
        "print (\"First Example\")\n",
        "for item in [1,2,3,4,5]:    \n",
        "    print ('item :', item)\n",
        "\n",
        "# Second Example    \n",
        "print (\"Second Example\")\n",
        "letters = ['A', 'B', 'C']\n",
        "for letter in letters:        \n",
        "    print ('First loop letter :', letter)\n",
        "\n",
        "# Third Example - Iterating by sequency index\n",
        "print (\"Third Example\")\n",
        "for index in range(len(letters)):\n",
        "    print ('First loop letter :', letters[index])\n",
        "\n",
        "# Fourth Example - Using else statement\n",
        "print (\"Fourth Example\")\n",
        "for item in [1,2,3,4,5]:    \n",
        "    print ('item :', item)    \n",
        "else:\n",
        "    print ('looping over item complete!')"
      ],
      "execution_count": 0,
      "outputs": [
        {
          "output_type": "stream",
          "text": [
            "First Example\n",
            "item : 1\n",
            "item : 2\n",
            "item : 3\n",
            "item : 4\n",
            "item : 5\n",
            "Second Example\n",
            "First loop letter : A\n",
            "First loop letter : B\n",
            "First loop letter : C\n",
            "Third Example\n",
            "First loop letter : A\n",
            "First loop letter : B\n",
            "First loop letter : C\n",
            "Fourth Example\n",
            "item : 1\n",
            "item : 2\n",
            "item : 3\n",
            "item : 4\n",
            "item : 5\n",
            "looping over item complete!\n"
          ],
          "name": "stdout"
        }
      ]
    },
    {
      "cell_type": "markdown",
      "metadata": {
        "id": "5srt3TkADjWG",
        "colab_type": "text"
      },
      "source": [
        "while"
      ]
    },
    {
      "cell_type": "code",
      "metadata": {
        "id": "jBgntzo6Dk5U",
        "colab_type": "code",
        "outputId": "ea2ee955-eb63-4b9f-f846-0ada7379130d",
        "colab": {
          "base_uri": "https://localhost:8080/",
          "height": 102
        }
      },
      "source": [
        "count = 0\n",
        "while (count < 5):\n",
        "    print ('The count is:', count)\n",
        "    count = count + 1"
      ],
      "execution_count": 0,
      "outputs": [
        {
          "output_type": "stream",
          "text": [
            "The count is: 0\n",
            "The count is: 1\n",
            "The count is: 2\n",
            "The count is: 3\n",
            "The count is: 4\n"
          ],
          "name": "stdout"
        }
      ]
    },
    {
      "cell_type": "markdown",
      "metadata": {
        "id": "9LGE_Ky9DyAg",
        "colab_type": "text"
      },
      "source": [
        ""
      ]
    },
    {
      "cell_type": "code",
      "metadata": {
        "id": "EstIzpJADzRi",
        "colab_type": "code",
        "outputId": "c18706a0-2920-4f9c-8a47-5a5f41c6b2e1",
        "colab": {
          "base_uri": "https://localhost:8080/",
          "height": 119
        }
      },
      "source": [
        "count = 0\n",
        "while count < 5:\n",
        "    print (count, \" is  less than 5\")\n",
        "    count = count + 1\n",
        "else:\n",
        "    print (count, \" is not less than 5\")"
      ],
      "execution_count": 0,
      "outputs": [
        {
          "output_type": "stream",
          "text": [
            "0  is  less than 5\n",
            "1  is  less than 5\n",
            "2  is  less than 5\n",
            "3  is  less than 5\n",
            "4  is  less than 5\n",
            "5  is not less than 5\n"
          ],
          "name": "stdout"
        }
      ]
    },
    {
      "cell_type": "markdown",
      "metadata": {
        "id": "irS4AAQ7D4B1",
        "colab_type": "text"
      },
      "source": [
        "def of fct"
      ]
    },
    {
      "cell_type": "code",
      "metadata": {
        "id": "Xmigs3xhD6YH",
        "colab_type": "code",
        "outputId": "5822e98f-4e8a-43ae-b565-064f86f443c6",
        "colab": {
          "base_uri": "https://localhost:8080/",
          "height": 34
        }
      },
      "source": [
        "# simple function to add two numbers\n",
        "def sum_two_numbers(a, b):\n",
        "    return a + b\n",
        "\n",
        "# after this line x will hold the value 3!\n",
        "x = sum_two_numbers(1,2)\n",
        "print (x)"
      ],
      "execution_count": 0,
      "outputs": [
        {
          "output_type": "stream",
          "text": [
            "3\n"
          ],
          "name": "stdout"
        }
      ]
    },
    {
      "cell_type": "markdown",
      "metadata": {
        "id": "_8Hl91wuEA61",
        "colab_type": "text"
      },
      "source": [
        ""
      ]
    },
    {
      "cell_type": "code",
      "metadata": {
        "id": "jZjUcy80EB9g",
        "colab_type": "code",
        "outputId": "a38e0795-1fdc-47a8-8d4c-0f7781735cad",
        "colab": {
          "base_uri": "https://localhost:8080/",
          "height": 51
        }
      },
      "source": [
        "def sum_two_numbers(a, b = 10):\n",
        "    return a + b\n",
        "\n",
        "print (sum_two_numbers(10))\n",
        "print (sum_two_numbers(10, 5))"
      ],
      "execution_count": 0,
      "outputs": [
        {
          "output_type": "stream",
          "text": [
            "20\n",
            "15\n"
          ],
          "name": "stdout"
        }
      ]
    },
    {
      "cell_type": "code",
      "metadata": {
        "id": "FNKYamjAELw2",
        "colab_type": "code",
        "outputId": "0dc3b3dc-2c81-42fc-8aab-9539ee3ffb9b",
        "colab": {
          "base_uri": "https://localhost:8080/",
          "height": 68
        }
      },
      "source": [
        "def foo(*args):\n",
        "    for a in args:\n",
        "        print (a)\n",
        "\n",
        "foo(1,2,3)  "
      ],
      "execution_count": 0,
      "outputs": [
        {
          "output_type": "stream",
          "text": [
            "1\n",
            "2\n",
            "3\n"
          ],
          "name": "stdout"
        }
      ]
    },
    {
      "cell_type": "markdown",
      "metadata": {
        "id": "7uW-CXMxEWFV",
        "colab_type": "text"
      },
      "source": [
        ""
      ]
    },
    {
      "cell_type": "markdown",
      "metadata": {
        "id": "wBZHIR2REWQf",
        "colab_type": "text"
      },
      "source": [
        ""
      ]
    },
    {
      "cell_type": "code",
      "metadata": {
        "id": "e9_BFcdSEXX3",
        "colab_type": "code",
        "outputId": "1900a6fc-6b00-45e6-b30a-c492ebd56e84",
        "colab": {
          "base_uri": "https://localhost:8080/",
          "height": 51
        }
      },
      "source": [
        "def bar(**kwargs):\n",
        "    for a in kwargs:\n",
        "        print (a, kwargs[a])\n",
        "        \n",
        "bar(name='one', age=27)"
      ],
      "execution_count": 0,
      "outputs": [
        {
          "output_type": "stream",
          "text": [
            "name one\n",
            "age 27\n"
          ],
          "name": "stdout"
        }
      ]
    },
    {
      "cell_type": "markdown",
      "metadata": {
        "id": "gUGOCiysEu-q",
        "colab_type": "text"
      },
      "source": [
        "module(library)"
      ]
    },
    {
      "cell_type": "code",
      "metadata": {
        "id": "cF7UPcIsE3a2",
        "colab_type": "code",
        "outputId": "ab360206-b3ab-459a-e461-550822cdf7f2",
        "colab": {
          "base_uri": "https://localhost:8080/",
          "height": 54
        }
      },
      "source": [
        "import os\n",
        "\n",
        "content = dir(os)\n",
        "\n",
        "print (content)"
      ],
      "execution_count": 0,
      "outputs": [
        {
          "output_type": "stream",
          "text": [
            "['CLD_CONTINUED', 'CLD_DUMPED', 'CLD_EXITED', 'CLD_TRAPPED', 'DirEntry', 'EX_CANTCREAT', 'EX_CONFIG', 'EX_DATAERR', 'EX_IOERR', 'EX_NOHOST', 'EX_NOINPUT', 'EX_NOPERM', 'EX_NOUSER', 'EX_OK', 'EX_OSERR', 'EX_OSFILE', 'EX_PROTOCOL', 'EX_SOFTWARE', 'EX_TEMPFAIL', 'EX_UNAVAILABLE', 'EX_USAGE', 'F_LOCK', 'F_OK', 'F_TEST', 'F_TLOCK', 'F_ULOCK', 'GRND_NONBLOCK', 'GRND_RANDOM', 'MutableMapping', 'NGROUPS_MAX', 'O_ACCMODE', 'O_APPEND', 'O_ASYNC', 'O_CLOEXEC', 'O_CREAT', 'O_DIRECT', 'O_DIRECTORY', 'O_DSYNC', 'O_EXCL', 'O_LARGEFILE', 'O_NDELAY', 'O_NOATIME', 'O_NOCTTY', 'O_NOFOLLOW', 'O_NONBLOCK', 'O_PATH', 'O_RDONLY', 'O_RDWR', 'O_RSYNC', 'O_SYNC', 'O_TMPFILE', 'O_TRUNC', 'O_WRONLY', 'POSIX_FADV_DONTNEED', 'POSIX_FADV_NOREUSE', 'POSIX_FADV_NORMAL', 'POSIX_FADV_RANDOM', 'POSIX_FADV_SEQUENTIAL', 'POSIX_FADV_WILLNEED', 'PRIO_PGRP', 'PRIO_PROCESS', 'PRIO_USER', 'P_ALL', 'P_NOWAIT', 'P_NOWAITO', 'P_PGID', 'P_PID', 'P_WAIT', 'PathLike', 'RTLD_DEEPBIND', 'RTLD_GLOBAL', 'RTLD_LAZY', 'RTLD_LOCAL', 'RTLD_NODELETE', 'RTLD_NOLOAD', 'RTLD_NOW', 'R_OK', 'SCHED_BATCH', 'SCHED_FIFO', 'SCHED_IDLE', 'SCHED_OTHER', 'SCHED_RESET_ON_FORK', 'SCHED_RR', 'SEEK_CUR', 'SEEK_DATA', 'SEEK_END', 'SEEK_HOLE', 'SEEK_SET', 'ST_APPEND', 'ST_MANDLOCK', 'ST_NOATIME', 'ST_NODEV', 'ST_NODIRATIME', 'ST_NOEXEC', 'ST_NOSUID', 'ST_RDONLY', 'ST_RELATIME', 'ST_SYNCHRONOUS', 'ST_WRITE', 'TMP_MAX', 'WCONTINUED', 'WCOREDUMP', 'WEXITED', 'WEXITSTATUS', 'WIFCONTINUED', 'WIFEXITED', 'WIFSIGNALED', 'WIFSTOPPED', 'WNOHANG', 'WNOWAIT', 'WSTOPPED', 'WSTOPSIG', 'WTERMSIG', 'WUNTRACED', 'W_OK', 'XATTR_CREATE', 'XATTR_REPLACE', 'XATTR_SIZE_MAX', 'X_OK', '_Environ', '__all__', '__builtins__', '__cached__', '__doc__', '__file__', '__loader__', '__name__', '__package__', '__spec__', '_execvpe', '_exists', '_exit', '_fspath', '_fwalk', '_get_exports_list', '_putenv', '_spawnvef', '_unsetenv', '_wrap_close', 'abc', 'abort', 'access', 'altsep', 'chdir', 'chmod', 'chown', 'chroot', 'close', 'closerange', 'confstr', 'confstr_names', 'cpu_count', 'ctermid', 'curdir', 'defpath', 'device_encoding', 'devnull', 'dup', 'dup2', 'environ', 'environb', 'errno', 'error', 'execl', 'execle', 'execlp', 'execlpe', 'execv', 'execve', 'execvp', 'execvpe', 'extsep', 'fchdir', 'fchmod', 'fchown', 'fdatasync', 'fdopen', 'fork', 'forkpty', 'fpathconf', 'fsdecode', 'fsencode', 'fspath', 'fstat', 'fstatvfs', 'fsync', 'ftruncate', 'fwalk', 'get_blocking', 'get_exec_path', 'get_inheritable', 'get_terminal_size', 'getcwd', 'getcwdb', 'getegid', 'getenv', 'getenvb', 'geteuid', 'getgid', 'getgrouplist', 'getgroups', 'getloadavg', 'getlogin', 'getpgid', 'getpgrp', 'getpid', 'getppid', 'getpriority', 'getrandom', 'getresgid', 'getresuid', 'getsid', 'getuid', 'getxattr', 'initgroups', 'isatty', 'kill', 'killpg', 'lchown', 'linesep', 'link', 'listdir', 'listxattr', 'lockf', 'lseek', 'lstat', 'major', 'makedev', 'makedirs', 'minor', 'mkdir', 'mkfifo', 'mknod', 'name', 'nice', 'open', 'openpty', 'pardir', 'path', 'pathconf', 'pathconf_names', 'pathsep', 'pipe', 'pipe2', 'popen', 'posix_fadvise', 'posix_fallocate', 'pread', 'putenv', 'pwrite', 'read', 'readlink', 'readv', 'remove', 'removedirs', 'removexattr', 'rename', 'renames', 'replace', 'rmdir', 'scandir', 'sched_get_priority_max', 'sched_get_priority_min', 'sched_getaffinity', 'sched_getparam', 'sched_getscheduler', 'sched_param', 'sched_rr_get_interval', 'sched_setaffinity', 'sched_setparam', 'sched_setscheduler', 'sched_yield', 'sendfile', 'sep', 'set_blocking', 'set_inheritable', 'setegid', 'seteuid', 'setgid', 'setgroups', 'setpgid', 'setpgrp', 'setpriority', 'setregid', 'setresgid', 'setresuid', 'setreuid', 'setsid', 'setuid', 'setxattr', 'spawnl', 'spawnle', 'spawnlp', 'spawnlpe', 'spawnv', 'spawnve', 'spawnvp', 'spawnvpe', 'st', 'stat', 'stat_float_times', 'stat_result', 'statvfs', 'statvfs_result', 'strerror', 'supports_bytes_environ', 'supports_dir_fd', 'supports_effective_ids', 'supports_fd', 'supports_follow_symlinks', 'symlink', 'sync', 'sys', 'sysconf', 'sysconf_names', 'system', 'tcgetpgrp', 'tcsetpgrp', 'terminal_size', 'times', 'times_result', 'truncate', 'ttyname', 'umask', 'uname', 'uname_result', 'unlink', 'unsetenv', 'urandom', 'utime', 'wait', 'wait3', 'wait4', 'waitid', 'waitid_result', 'waitpid', 'walk', 'write', 'writev']\n"
          ],
          "name": "stdout"
        }
      ]
    },
    {
      "cell_type": "markdown",
      "metadata": {
        "id": "xiFDjB4kE71e",
        "colab_type": "text"
      },
      "source": [
        "the end"
      ]
    }
  ]
}