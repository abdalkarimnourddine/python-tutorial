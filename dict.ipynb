{
  "nbformat": 4,
  "nbformat_minor": 0,
  "metadata": {
    "colab": {
      "name": "Copy of Untitled2.ipynb",
      "provenance": [],
      "collapsed_sections": [],
      "authorship_tag": "ABX9TyPfy5NXY8xmSj087CFBYKfF",
      "include_colab_link": true
    },
    "kernelspec": {
      "name": "python3",
      "display_name": "Python 3"
    }
  },
  "cells": [
    {
      "cell_type": "markdown",
      "metadata": {
        "id": "view-in-github",
        "colab_type": "text"
      },
      "source": [
        "<a href=\"https://colab.research.google.com/github/abdalkarimnourddine/python-tutorial/blob/master/dict.ipynb\" target=\"_parent\"><img src=\"https://colab.research.google.com/assets/colab-badge.svg\" alt=\"Open In Colab\"/></a>"
      ]
    },
    {
      "cell_type": "code",
      "metadata": {
        "id": "W_mNw4urIvQu",
        "colab_type": "code",
        "colab": {}
      },
      "source": [
        ""
      ],
      "execution_count": 0,
      "outputs": []
    },
    {
      "cell_type": "markdown",
      "metadata": {
        "id": "jydOg5csIxXx",
        "colab_type": "text"
      },
      "source": [
        "dict"
      ]
    },
    {
      "cell_type": "code",
      "metadata": {
        "id": "EWfCwkpjI11u",
        "colab_type": "code",
        "outputId": "5281675e-ed88-428b-eb48-9a02fc744aff",
        "colab": {
          "base_uri": "https://localhost:8080/",
          "height": 54
        }
      },
      "source": [
        "b={'a':'aa','c':'cc','d':'dd','e':'ee'}\n",
        "c={'a':'aa','c':'cc','d':'dd','e':'ee'}\n",
        "print(b['a'])\n",
        "print(b)"
      ],
      "execution_count": 0,
      "outputs": [
        {
          "output_type": "stream",
          "text": [
            "aa\n",
            "{'a': 'aa', 'c': 'cc', 'd': 'dd', 'e': 'ee'}\n"
          ],
          "name": "stdout"
        }
      ]
    },
    {
      "cell_type": "markdown",
      "metadata": {
        "id": "DUU0nOzwK8KL",
        "colab_type": "text"
      },
      "source": [
        "delete"
      ]
    },
    {
      "cell_type": "code",
      "metadata": {
        "id": "I63j4fdcK-Bs",
        "colab_type": "code",
        "outputId": "1fa51872-7e95-4406-bf9f-7454bcf01d36",
        "colab": {
          "base_uri": "https://localhost:8080/",
          "height": 54
        }
      },
      "source": [
        "del b['a']\n",
        "print(b)\n",
        "c.clear()\n",
        "print(c)\n",
        "del c\n",
        "\n"
      ],
      "execution_count": 0,
      "outputs": [
        {
          "output_type": "stream",
          "text": [
            "{'c': 'cc', 'd': 'dd', 'e': 'ee'}\n",
            "{}\n"
          ],
          "name": "stdout"
        }
      ]
    },
    {
      "cell_type": "code",
      "metadata": {
        "id": "coz0YEVLMyzK",
        "colab_type": "code",
        "outputId": "e59c82b6-b9d3-4604-a391-0b3b4e2b229b",
        "colab": {
          "base_uri": "https://localhost:8080/",
          "height": 35
        }
      },
      "source": [
        "#update a dic\n",
        "b['c']='ccc'\n",
        "print(b)"
      ],
      "execution_count": 0,
      "outputs": [
        {
          "output_type": "stream",
          "text": [
            "{'c': 'ccc', 'd': 'dd', 'e': 'ee'}\n"
          ],
          "name": "stdout"
        }
      ]
    },
    {
      "cell_type": "markdown",
      "metadata": {
        "id": "HLD6Xr8MNZRF",
        "colab_type": "text"
      },
      "source": [
        "operation of dic"
      ]
    },
    {
      "cell_type": "code",
      "metadata": {
        "id": "7C8T-mdRNfmK",
        "colab_type": "code",
        "outputId": "291a3ac9-0179-4f43-aace-0d1c13c0bff0",
        "colab": {
          "base_uri": "https://localhost:8080/",
          "height": 72
        }
      },
      "source": [
        "c={'a':'aa','c':'cc','d':'dd','e':'ee'}\n",
        "print(len(c))\n",
        "c1=c.copy()\n",
        "print(c1)\n",
        "print('aaa',c1)"
      ],
      "execution_count": 0,
      "outputs": [
        {
          "output_type": "stream",
          "text": [
            "4\n",
            "{'a': 'aa', 'c': 'cc', 'd': 'dd', 'e': 'ee'}\n",
            "aaa {'a': 'aa', 'c': 'cc', 'd': 'dd', 'e': 'ee'}\n"
          ],
          "name": "stdout"
        }
      ]
    },
    {
      "cell_type": "code",
      "metadata": {
        "id": "ZhM5JZVOrTtr",
        "colab_type": "code",
        "outputId": "1ac3aef3-334d-4bce-e406-e72527b6cd75",
        "colab": {
          "base_uri": "https://localhost:8080/",
          "height": 35
        }
      },
      "source": [
        "dict = {'Name': 'Jivin', 'Age': 8};\n",
        "print (\"Value for Age: \", dict.get('Age'))"
      ],
      "execution_count": 0,
      "outputs": [
        {
          "output_type": "stream",
          "text": [
            "Value for Age:  8\n"
          ],
          "name": "stdout"
        }
      ]
    },
    {
      "cell_type": "code",
      "metadata": {
        "id": "_5ncg6t3uZwz",
        "colab_type": "code",
        "outputId": "f11cfb59-4cfb-4802-fe8f-67a9f6e9da69",
        "colab": {
          "base_uri": "https://localhost:8080/",
          "height": 35
        }
      },
      "source": [
        "print (\"Value for Education: \", dict.get('Education', \"First Grade\"))\n"
      ],
      "execution_count": 0,
      "outputs": [
        {
          "output_type": "stream",
          "text": [
            "Value for Education:  First Grade\n"
          ],
          "name": "stdout"
        }
      ]
    },
    {
      "cell_type": "code",
      "metadata": {
        "id": "J7lFHYYtugEL",
        "colab_type": "code",
        "outputId": "0f3744c3-1d37-49b7-af3e-d03e790bde51",
        "colab": {
          "base_uri": "https://localhost:8080/",
          "height": 35
        }
      },
      "source": [
        "print (\"Sex exists? \", 'Sex' in dict)"
      ],
      "execution_count": 0,
      "outputs": [
        {
          "output_type": "stream",
          "text": [
            "Sex exists?  False\n"
          ],
          "name": "stdout"
        }
      ]
    },
    {
      "cell_type": "code",
      "metadata": {
        "id": "rzSk5dL1uiHs",
        "colab_type": "code",
        "outputId": "ebceda2b-70c3-4765-a67e-8e6c06c2d26a",
        "colab": {
          "base_uri": "https://localhost:8080/",
          "height": 35
        }
      },
      "source": [
        "print (\"dict items: \", dict.items())"
      ],
      "execution_count": 0,
      "outputs": [
        {
          "output_type": "stream",
          "text": [
            "dict items:  dict_items([('Name', 'Jivin'), ('Age', 8)])\n"
          ],
          "name": "stdout"
        }
      ]
    },
    {
      "cell_type": "code",
      "metadata": {
        "id": "VOswFh63us8P",
        "colab_type": "code",
        "outputId": "4bdbd313-194d-4f68-b078-2fb912eb7e7e",
        "colab": {
          "base_uri": "https://localhost:8080/",
          "height": 35
        }
      },
      "source": [
        "print (\"dict keys: \", dict.keys())\n"
      ],
      "execution_count": 0,
      "outputs": [
        {
          "output_type": "stream",
          "text": [
            "dict keys:  dict_keys(['Name', 'Age'])\n"
          ],
          "name": "stdout"
        }
      ]
    },
    {
      "cell_type": "code",
      "metadata": {
        "id": "_rD77qmyuwwG",
        "colab_type": "code",
        "outputId": "c280b751-bfa3-478f-e66f-880eb28f6361",
        "colab": {
          "base_uri": "https://localhost:8080/",
          "height": 35
        }
      },
      "source": [
        "print (\"Value of dict: \",  dict.values())"
      ],
      "execution_count": 0,
      "outputs": [
        {
          "output_type": "stream",
          "text": [
            "Value of dict:  dict_values(['Jivin', 8])\n"
          ],
          "name": "stdout"
        }
      ]
    },
    {
      "cell_type": "code",
      "metadata": {
        "id": "idJAUVy1u9i_",
        "colab_type": "code",
        "outputId": "d1271ee4-169b-4505-e0b1-3a850795894a",
        "colab": {
          "base_uri": "https://localhost:8080/",
          "height": 54
        }
      },
      "source": [
        "print (\"Value for Age : \", dict.setdefault('Age', None))\n",
        "print (\"Value for Sex: \", dict.setdefault('Sex', None))"
      ],
      "execution_count": 0,
      "outputs": [
        {
          "output_type": "stream",
          "text": [
            "Value for Age :  8\n",
            "Value for Sex:  None\n"
          ],
          "name": "stdout"
        }
      ]
    },
    {
      "cell_type": "code",
      "metadata": {
        "id": "mcn9CHY4u-oW",
        "colab_type": "code",
        "outputId": "ec79804c-0a70-4e39-856a-d2508a4bcf84",
        "colab": {
          "base_uri": "https://localhost:8080/",
          "height": 35
        }
      },
      "source": [
        "dict2 = {'Age':'100','Sex': 'male' }\n",
        "dict.update(dict2)\n",
        "print (\"dict.update(dict2) = \",  dict)"
      ],
      "execution_count": 0,
      "outputs": [
        {
          "output_type": "stream",
          "text": [
            "dict.update(dict2) =  {'Name': 'Jivin', 'Age': '100', 'Sex': 'male'}\n"
          ],
          "name": "stdout"
        }
      ]
    }
  ]
}