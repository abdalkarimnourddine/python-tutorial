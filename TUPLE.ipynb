{
  "nbformat": 4,
  "nbformat_minor": 0,
  "metadata": {
    "colab": {
      "name": "TUPLE.ipynb",
      "provenance": [],
      "authorship_tag": "ABX9TyN1ome6dPrPitHaDEJOCFap",
      "include_colab_link": true
    },
    "kernelspec": {
      "name": "python3",
      "display_name": "Python 3"
    }
  },
  "cells": [
    {
      "cell_type": "markdown",
      "metadata": {
        "id": "view-in-github",
        "colab_type": "text"
      },
      "source": [
        "<a href=\"https://colab.research.google.com/github/abdalkarimnourddine/python-tutorial/blob/master/TUPLE.ipynb\" target=\"_parent\"><img src=\"https://colab.research.google.com/assets/colab-badge.svg\" alt=\"Open In Colab\"/></a>"
      ]
    },
    {
      "cell_type": "markdown",
      "metadata": {
        "id": "d9cb1Sgu2iKF",
        "colab_type": "text"
      },
      "source": [
        "# Creating a tuple"
      ]
    },
    {
      "cell_type": "code",
      "metadata": {
        "id": "sNVeH0202lC8",
        "colab_type": "code",
        "colab": {
          "base_uri": "https://localhost:8080/",
          "height": 35
        },
        "outputId": "11fead3d-eee5-41eb-adb1-284c89d67b21"
      },
      "source": [
        "Tuple = ('a','b','c','d',1,2,3)\n",
        "print (\"Sample Tuple :\", Tuple)"
      ],
      "execution_count": 1,
      "outputs": [
        {
          "output_type": "stream",
          "text": [
            "Sample Tuple : ('a', 'b', 'c', 'd', 1, 2, 3)\n"
          ],
          "name": "stdout"
        }
      ]
    },
    {
      "cell_type": "markdown",
      "metadata": {
        "id": "eI5Qp0Bd22kZ",
        "colab_type": "text"
      },
      "source": [
        "access to tuple"
      ]
    },
    {
      "cell_type": "code",
      "metadata": {
        "id": "Et-O-k-23BC9",
        "colab_type": "code",
        "colab": {
          "base_uri": "https://localhost:8080/",
          "height": 54
        },
        "outputId": "df37abda-0ec2-424d-920a-16954a07cac4"
      },
      "source": [
        "# Accessing items in tuple\n",
        "\n",
        "print (\"3rd item of Tuple:\", Tuple[2])\n",
        "print (\"First 3 items of Tuple\", Tuple[0:2])"
      ],
      "execution_count": 2,
      "outputs": [
        {
          "output_type": "stream",
          "text": [
            "3rd item of Tuple: c\n",
            "First 3 items of Tuple ('a', 'b')\n"
          ],
          "name": "stdout"
        }
      ]
    },
    {
      "cell_type": "code",
      "metadata": {
        "id": "1b5dW18L3IYr",
        "colab_type": "code",
        "colab": {
          "base_uri": "https://localhost:8080/",
          "height": 35
        },
        "outputId": "0a297fcc-f8f6-4555-b729-d87eaef5088c"
      },
      "source": [
        "Tuple = ('a','b','c','d',1,2,3)\n",
        "print (\"Sample Tuple: \",Tuple)\n",
        "del Tuple"
      ],
      "execution_count": 3,
      "outputs": [
        {
          "output_type": "stream",
          "text": [
            "Sample Tuple:  ('a', 'b', 'c', 'd', 1, 2, 3)\n"
          ],
          "name": "stdout"
        }
      ]
    },
    {
      "cell_type": "markdown",
      "metadata": {
        "id": "8QtI7CVB3Lui",
        "colab_type": "text"
      },
      "source": [
        "#operation\n",
        "\n"
      ]
    },
    {
      "cell_type": "code",
      "metadata": {
        "id": "YlJtFtCA95nn",
        "colab_type": "code",
        "colab": {
          "base_uri": "https://localhost:8080/",
          "height": 54
        },
        "outputId": "9ff12e84-2526-4a8f-e1bd-069470d8fb90"
      },
      "source": [
        "# Basic Tuple operations\n",
        "Tuple = ('a','b','c','d',1,2,3)\n",
        "\n",
        "print (\"Length of Tuple: \", len(Tuple))\n",
        "\n",
        "Tuple_Concat = Tuple + (7,8,9)\n",
        "print (\"Concatinated Tuple: \", Tuple_Concat)\n"
      ],
      "execution_count": 4,
      "outputs": [
        {
          "output_type": "stream",
          "text": [
            "Length of Tuple:  7\n",
            "Concatinated Tuple:  ('a', 'b', 'c', 'd', 1, 2, 3, 7, 8, 9)\n"
          ],
          "name": "stdout"
        }
      ]
    },
    {
      "cell_type": "code",
      "metadata": {
        "id": "7VWYfM6WAy_5",
        "colab_type": "code",
        "colab": {
          "base_uri": "https://localhost:8080/",
          "height": 54
        },
        "outputId": "30ebc857-15db-4e9b-d15c-c4a90e1e2cc0"
      },
      "source": [
        "print (\"Repetition: \", (1, 'a',2, 'b') * 3)\n",
        "print (\"Membership check: \", 3 in (1,2,3))"
      ],
      "execution_count": 5,
      "outputs": [
        {
          "output_type": "stream",
          "text": [
            "Repetition:  (1, 'a', 2, 'b', 1, 'a', 2, 'b', 1, 'a', 2, 'b')\n",
            "Membership check:  True\n"
          ],
          "name": "stdout"
        }
      ]
    },
    {
      "cell_type": "markdown",
      "metadata": {
        "id": "zeqJbh7JBAXL",
        "colab_type": "text"
      },
      "source": [
        "# Iteration"
      ]
    },
    {
      "cell_type": "code",
      "metadata": {
        "id": "jqBpGUYZBB4D",
        "colab_type": "code",
        "colab": {
          "base_uri": "https://localhost:8080/",
          "height": 54
        },
        "outputId": "a0c46c3a-f550-4286-c1aa-285bf9cb96bc"
      },
      "source": [
        "print (\"Negative sign will retrieve item from right: \", Tuple_Concat[-2])\n",
        "print (\"Sliced Tuple [2:] \", Tuple_Concat[2:])\n"
      ],
      "execution_count": 7,
      "outputs": [
        {
          "output_type": "stream",
          "text": [
            "Negative sign will retrieve item from right:  8\n",
            "Sliced Tuple [2:]  ('c', 'd', 1, 2, 3, 7, 8, 9)\n"
          ],
          "name": "stdout"
        }
      ]
    },
    {
      "cell_type": "code",
      "metadata": {
        "id": "aPykmy4uB01j",
        "colab_type": "code",
        "colab": {
          "base_uri": "https://localhost:8080/",
          "height": 72
        },
        "outputId": "28bb3f09-3ead-4924-c0fe-c05a54354b88"
      },
      "source": [
        "# Find max\n",
        "print (\"Max of the Tuple (1,2,3,4,5,6,7,8,9,10): \", max((1,2,3,4,5,6,7,8,9,10)))\n",
        "print (\"Min of the Tuple (1,2,3,4,5,6,7,8,9,10): \", min((1,2,3,4,5,6,7,8,9,10)))\n",
        "print (\"List [1,2,3,4] converted to tuple: \", type(tuple([1,2,3,4])))"
      ],
      "execution_count": 8,
      "outputs": [
        {
          "output_type": "stream",
          "text": [
            "Max of the Tuple (1,2,3,4,5,6,7,8,9,10):  10\n",
            "Min of the Tuple (1,2,3,4,5,6,7,8,9,10):  1\n",
            "List [1,2,3,4] converted to tuple:  <class 'tuple'>\n"
          ],
          "name": "stdout"
        }
      ]
    }
  ]
}